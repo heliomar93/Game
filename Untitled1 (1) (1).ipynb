{
 "cells": [
  {
   "cell_type": "code",
   "execution_count": null,
   "metadata": {},
   "outputs": [],
   "source": [
    "import random"
   ]
  },
  {
   "cell_type": "code",
   "execution_count": null,
   "metadata": {},
   "outputs": [],
   "source": [
    "palavras=[\"banana\",\"laranja\",\"melancia\"]\n",
    "palavra_do_jogo=random.choice(palavras) \n",
    "letras=[]\n",
    "for i in range(len(palavra_do_jogo)):\n",
    "    letras.append(palavra_do_jogo[i])\n",
    "letras\n",
    "exibir=\" _ \" * len(palavra_do_jogo)\n",
    "print(f\"A palavra é : {exibir}\")\n",
    "print(\"\")\n",
    "jogo = True\n",
    "tentativas = []\n",
    "def exibir(palavra_do_jogo,tentativas):\n",
    "    caracteres = (letra if letra in tentativas else '_' for letra in palavra_do_jogo)\n",
    "    return ' '.join(caracteres)"
   ]
  },
  {
   "cell_type": "code",
   "execution_count": null,
   "metadata": {},
   "outputs": [],
   "source": [
    "def fim_do_jogo():\n",
    "    resposta=str(input(\"Deseja jogar novamente? (s/n)\"))\n",
    "    if resposta == \"s\":\n",
    "        jogo()\n",
    "    elif resposta == \"n\":\n",
    "        print(\"Ok, obrigado pela atenção\")\n",
    "    elif resposta!=\"s\" and resposta!=\"n\":\n",
    "        print(\"Opção inválida\")\n",
    "        fim_do_jogo()"
   ]
  },
  {
   "cell_type": "code",
   "execution_count": null,
   "metadata": {},
   "outputs": [],
   "source": [
    "def jogo():\n",
    "    print('A palavra atual é:', exibir(palavra_do_jogo, tentativas))\n",
    "    while True:\n",
    "        tentativa = input('Digite uma letra ou palavra: ').lower()\n",
    "        if tentativa not in tentativas:\n",
    "            tentativas.append(tentativa)\n",
    "        else:\n",
    "            print('Você já fez essa tentativa.')\n",
    "            exibir(palavra_do_jogo, tentativas)\n",
    "\n",
    "    if '_' not in exibir(palavra_do_jogo, tentativas):\n",
    "        print('Você venceu')\n",
    "        fim_do_jogo()\n",
    "\n",
    "    if tentativa not in palavra:\n",
    "        erros +=1\n",
    "        print(f'Você errou! Só te restam {6-erros} tentativas')\n",
    "    \n",
    "    if erros == 6:\n",
    "        print('Você perdeu!')\n",
    "        fim_do_jogo()\n",
    "jogo()"
   ]
  },
  {
   "cell_type": "code",
   "execution_count": null,
   "metadata": {},
   "outputs": [],
   "source": []
  }
 ],
 "metadata": {
  "kernelspec": {
   "display_name": "Python 3",
   "language": "python",
   "name": "python3"
  },
  "language_info": {
   "codemirror_mode": {
    "name": "ipython",
    "version": 3
   },
   "file_extension": ".py",
   "mimetype": "text/x-python",
   "name": "python",
   "nbconvert_exporter": "python",
   "pygments_lexer": "ipython3",
   "version": "3.8.3"
  }
 },
 "nbformat": 4,
 "nbformat_minor": 4
}
